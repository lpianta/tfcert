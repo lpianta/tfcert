{
 "cells": [
  {
   "cell_type": "markdown",
   "id": "6c466b50",
   "metadata": {},
   "source": [
    "# Exercises for TensorFlow fundamentals"
   ]
  },
  {
   "cell_type": "markdown",
   "id": "ec983d38",
   "metadata": {},
   "source": [
    "**Exercise 1:** Read through TensorFlow documentation on random seed generation:\n",
    "(https://www.tensorflow.org/api_docs/python/tf/random/set_seed) and practice writing 5 random tensors."
   ]
  },
  {
   "cell_type": "code",
   "execution_count": 1,
   "id": "9d5c4f77",
   "metadata": {},
   "outputs": [],
   "source": [
    "import tensorflow as tf"
   ]
  },
  {
   "cell_type": "code",
   "execution_count": 110,
   "id": "0f5ad164",
   "metadata": {},
   "outputs": [
    {
     "data": {
      "text/plain": [
       "<tf.Tensor: shape=(3, 2, 2), dtype=int32, numpy=\n",
       "array([[[ 2,  8],\n",
       "        [ 1,  9]],\n",
       "\n",
       "       [[ 3,  1],\n",
       "        [10, 11]],\n",
       "\n",
       "       [[10,  7],\n",
       "        [ 4,  5]]], dtype=int32)>"
      ]
     },
     "execution_count": 110,
     "metadata": {},
     "output_type": "execute_result"
    }
   ],
   "source": [
    "tensor_1 = tf.constant([[[10, 7],\n",
    "                        [4, 5]],\n",
    "                       [[2, 8],\n",
    "                       [1, 9]],\n",
    "                       [[3, 1],\n",
    "                       [10, 11]]])\n",
    "tf.random.shuffle(tensor_1)"
   ]
  },
  {
   "cell_type": "code",
   "execution_count": 111,
   "id": "0b0e5cd7",
   "metadata": {},
   "outputs": [
    {
     "data": {
      "text/plain": [
       "<tf.Tensor: shape=(3, 2, 2), dtype=int32, numpy=\n",
       "array([[[ 3,  1],\n",
       "        [10, 11]],\n",
       "\n",
       "       [[10,  7],\n",
       "        [ 4,  5]],\n",
       "\n",
       "       [[ 2,  8],\n",
       "        [ 1,  9]]], dtype=int32)>"
      ]
     },
     "execution_count": 111,
     "metadata": {},
     "output_type": "execute_result"
    }
   ],
   "source": [
    "tf.random.set_seed(1234)\n",
    "tensor_2 = tf.random.shuffle(tensor_1)\n",
    "tensor_2"
   ]
  },
  {
   "cell_type": "code",
   "execution_count": 113,
   "id": "3b382a83",
   "metadata": {},
   "outputs": [
    {
     "data": {
      "text/plain": [
       "<tf.Tensor: shape=(3, 2, 2), dtype=int32, numpy=\n",
       "array([[[10,  7],\n",
       "        [ 4,  5]],\n",
       "\n",
       "       [[ 3,  1],\n",
       "        [10, 11]],\n",
       "\n",
       "       [[ 2,  8],\n",
       "        [ 1,  9]]], dtype=int32)>"
      ]
     },
     "execution_count": 113,
     "metadata": {},
     "output_type": "execute_result"
    }
   ],
   "source": [
    "tf.random.set_seed(1234)\n",
    "tensor_3 = tf.random.shuffle(tensor_1, seed=42)\n",
    "tensor_3"
   ]
  },
  {
   "cell_type": "code",
   "execution_count": 116,
   "id": "b4377258",
   "metadata": {},
   "outputs": [
    {
     "data": {
      "text/plain": [
       "<tf.Tensor: shape=(3, 2, 2), dtype=float32, numpy=\n",
       "array([[[ 0.8045827 ,  0.4769051 ],\n",
       "        [-0.7812124 , -0.996891  ]],\n",
       "\n",
       "       [[ 0.33149973, -0.5445254 ],\n",
       "        [ 1.5222508 ,  0.59303206]],\n",
       "\n",
       "       [[-0.63509274,  0.37035653],\n",
       "        [-1.0939722 , -0.46014452]]], dtype=float32)>"
      ]
     },
     "execution_count": 116,
     "metadata": {},
     "output_type": "execute_result"
    }
   ],
   "source": [
    "tensor_4 = tf.random.Generator.from_seed(14)\n",
    "tensor_4 = tensor_4.normal(shape=(3, 2, 2))\n",
    "tensor_4"
   ]
  },
  {
   "cell_type": "code",
   "execution_count": null,
   "id": "91fa71c4",
   "metadata": {},
   "outputs": [],
   "source": [
    "tensor_5 = tf.random.uniform()"
   ]
  }
 ],
 "metadata": {
  "kernelspec": {
   "display_name": "Python 3",
   "language": "python",
   "name": "python3"
  },
  "language_info": {
   "codemirror_mode": {
    "name": "ipython",
    "version": 3
   },
   "file_extension": ".py",
   "mimetype": "text/x-python",
   "name": "python",
   "nbconvert_exporter": "python",
   "pygments_lexer": "ipython3",
   "version": "3.8.10"
  }
 },
 "nbformat": 4,
 "nbformat_minor": 5
}
